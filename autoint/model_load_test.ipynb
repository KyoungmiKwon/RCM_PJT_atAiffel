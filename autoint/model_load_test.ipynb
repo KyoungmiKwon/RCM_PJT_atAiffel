{
 "cells": [
  {
   "cell_type": "code",
   "execution_count": 1,
   "id": "2a8d526c",
   "metadata": {},
   "outputs": [
    {
     "name": "stderr",
     "output_type": "stream",
     "text": [
      "2025-07-11 19:02:33.789952: I tensorflow/core/platform/cpu_feature_guard.cc:182] This TensorFlow binary is optimized to use available CPU instructions in performance-critical operations.\n",
      "To enable the following instructions: AVX2 AVX512F AVX512_VNNI FMA, in other operations, rebuild TensorFlow with the appropriate compiler flags.\n"
     ]
    }
   ],
   "source": [
    "import streamlit as st\n",
    "import pandas as pd\n",
    "import numpy as np\n",
    "import tensorflow as tf\n",
    "import os\n",
    "\n",
    "import joblib\n",
    "# from autoint import AutoIntModel, predict_model\n",
    "from autointmlp import AutoIntMLPModel, predict_model\n",
    "from tensorflow.keras.models import load_model"
   ]
  },
  {
   "cell_type": "code",
   "execution_count": 2,
   "id": "7b890cda",
   "metadata": {},
   "outputs": [],
   "source": [
    "project_path = os.path.abspath(os.getcwd())\n",
    "data_dir_nm = 'data'\n",
    "movielens_dir_nm = 'ml-1m'\n",
    "model_dir_nm = 'model'\n",
    "data_path = f\"{project_path}/{data_dir_nm}\"\n",
    "model_path = f\"{project_path}/{model_dir_nm}\"\n",
    "field_dims = np.load(f'{data_path}/field_dims.npy')\n",
    "dropout= 0.4\n",
    "embed_dim= 16"
   ]
  },
  {
   "cell_type": "code",
   "execution_count": 3,
   "id": "0f338a21",
   "metadata": {},
   "outputs": [
    {
     "name": "stderr",
     "output_type": "stream",
     "text": [
      "/Users/kwonkyoungmi/workspaces/workspace_Python/PJT_RC/.venv/lib/python3.11/site-packages/keras/src/initializers/__init__.py:144: UserWarning: The `keras.initializers.serialize()` API should only be used for objects of type `keras.initializers.Initializer`. Found an instance of type <class 'tensorflow.python.ops.init_ops_v2.RandomNormal'>, which may lead to improper serialization.\n",
      "  warnings.warn(\n"
     ]
    },
    {
     "ename": "ValueError",
     "evalue": "Layer 'dense_1' expected 2 variables, but received 0 variables during loading. Expected: ['dense_1/kernel:0', 'dense_1/bias:0']",
     "output_type": "error",
     "traceback": [
      "\u001b[31m---------------------------------------------------------------------------\u001b[39m",
      "\u001b[31mValueError\u001b[39m                                Traceback (most recent call last)",
      "\u001b[36mCell\u001b[39m\u001b[36m \u001b[39m\u001b[32mIn[3]\u001b[39m\u001b[32m, line 13\u001b[39m\n\u001b[32m      8\u001b[39m model = AutoIntMLPModel(field_dims, embed_dim, att_layer_num=\u001b[32m3\u001b[39m, att_head_num=\u001b[32m2\u001b[39m, att_res=\u001b[38;5;28;01mTrue\u001b[39;00m, dnn_hidden_units=(\u001b[32m32\u001b[39m, \u001b[32m32\u001b[39m), dnn_activation=\u001b[33m'\u001b[39m\u001b[33mrelu\u001b[39m\u001b[33m'\u001b[39m,\n\u001b[32m      9\u001b[39m                              l2_reg_dnn=\u001b[32m0\u001b[39m, l2_reg_embedding=\u001b[32m1e-5\u001b[39m, dnn_use_bn=\u001b[38;5;28;01mFalse\u001b[39;00m, dnn_dropout=dropout, init_std=\u001b[32m0.0001\u001b[39m)\n\u001b[32m     11\u001b[39m model(tf.constant([[\u001b[32m0\u001b[39m] * \u001b[38;5;28mlen\u001b[39m(field_dims)], dtype=tf.int64))\n\u001b[32m---> \u001b[39m\u001b[32m13\u001b[39m \u001b[43mmodel\u001b[49m\u001b[43m.\u001b[49m\u001b[43mload_weights\u001b[49m\u001b[43m(\u001b[49m\u001b[33;43mf\u001b[39;49m\u001b[33;43m'\u001b[39;49m\u001b[38;5;132;43;01m{\u001b[39;49;00m\u001b[43mmodel_path\u001b[49m\u001b[38;5;132;43;01m}\u001b[39;49;00m\u001b[33;43m/autoIntMLP_model_weights.weights.h5\u001b[39;49m\u001b[33;43m'\u001b[39;49m\u001b[43m)\u001b[49m\n\u001b[32m     14\u001b[39m label_encoders = joblib.load(\u001b[33mf\u001b[39m\u001b[33m'\u001b[39m\u001b[38;5;132;01m{\u001b[39;00mdata_path\u001b[38;5;132;01m}\u001b[39;00m\u001b[33m/label_encoders.pkl\u001b[39m\u001b[33m'\u001b[39m)\n",
      "\u001b[36mFile \u001b[39m\u001b[32m~/workspaces/workspace_Python/PJT_RC/.venv/lib/python3.11/site-packages/keras/src/utils/traceback_utils.py:70\u001b[39m, in \u001b[36mfilter_traceback.<locals>.error_handler\u001b[39m\u001b[34m(*args, **kwargs)\u001b[39m\n\u001b[32m     67\u001b[39m     filtered_tb = _process_traceback_frames(e.__traceback__)\n\u001b[32m     68\u001b[39m     \u001b[38;5;66;03m# To get the full stack trace, call:\u001b[39;00m\n\u001b[32m     69\u001b[39m     \u001b[38;5;66;03m# `tf.debugging.disable_traceback_filtering()`\u001b[39;00m\n\u001b[32m---> \u001b[39m\u001b[32m70\u001b[39m     \u001b[38;5;28;01mraise\u001b[39;00m e.with_traceback(filtered_tb) \u001b[38;5;28;01mfrom\u001b[39;00m\u001b[38;5;250m \u001b[39m\u001b[38;5;28;01mNone\u001b[39;00m\n\u001b[32m     71\u001b[39m \u001b[38;5;28;01mfinally\u001b[39;00m:\n\u001b[32m     72\u001b[39m     \u001b[38;5;28;01mdel\u001b[39;00m filtered_tb\n",
      "\u001b[36mFile \u001b[39m\u001b[32m~/workspaces/workspace_Python/PJT_RC/.venv/lib/python3.11/site-packages/keras/src/engine/base_layer.py:3531\u001b[39m, in \u001b[36mLayer.load_own_variables\u001b[39m\u001b[34m(self, store)\u001b[39m\n\u001b[32m   3529\u001b[39m all_vars = \u001b[38;5;28mself\u001b[39m._trainable_weights + \u001b[38;5;28mself\u001b[39m._non_trainable_weights\n\u001b[32m   3530\u001b[39m \u001b[38;5;28;01mif\u001b[39;00m \u001b[38;5;28mlen\u001b[39m(store.keys()) != \u001b[38;5;28mlen\u001b[39m(all_vars):\n\u001b[32m-> \u001b[39m\u001b[32m3531\u001b[39m     \u001b[38;5;28;01mraise\u001b[39;00m \u001b[38;5;167;01mValueError\u001b[39;00m(\n\u001b[32m   3532\u001b[39m         \u001b[33mf\u001b[39m\u001b[33m\"\u001b[39m\u001b[33mLayer \u001b[39m\u001b[33m'\u001b[39m\u001b[38;5;132;01m{\u001b[39;00m\u001b[38;5;28mself\u001b[39m.name\u001b[38;5;132;01m}\u001b[39;00m\u001b[33m'\u001b[39m\u001b[33m expected \u001b[39m\u001b[38;5;132;01m{\u001b[39;00m\u001b[38;5;28mlen\u001b[39m(all_vars)\u001b[38;5;132;01m}\u001b[39;00m\u001b[33m variables, \u001b[39m\u001b[33m\"\u001b[39m\n\u001b[32m   3533\u001b[39m         \u001b[33m\"\u001b[39m\u001b[33mbut received \u001b[39m\u001b[33m\"\u001b[39m\n\u001b[32m   3534\u001b[39m         \u001b[33mf\u001b[39m\u001b[33m\"\u001b[39m\u001b[38;5;132;01m{\u001b[39;00m\u001b[38;5;28mlen\u001b[39m(store.keys())\u001b[38;5;132;01m}\u001b[39;00m\u001b[33m variables during loading. \u001b[39m\u001b[33m\"\u001b[39m\n\u001b[32m   3535\u001b[39m         \u001b[33mf\u001b[39m\u001b[33m\"\u001b[39m\u001b[33mExpected: \u001b[39m\u001b[38;5;132;01m{\u001b[39;00m[v.name\u001b[38;5;250m \u001b[39m\u001b[38;5;28;01mfor\u001b[39;00m\u001b[38;5;250m \u001b[39mv\u001b[38;5;250m \u001b[39m\u001b[38;5;129;01min\u001b[39;00m\u001b[38;5;250m \u001b[39mall_vars]\u001b[38;5;132;01m}\u001b[39;00m\u001b[33m\"\u001b[39m\n\u001b[32m   3536\u001b[39m     )\n\u001b[32m   3537\u001b[39m \u001b[38;5;28;01mfor\u001b[39;00m i, v \u001b[38;5;129;01min\u001b[39;00m \u001b[38;5;28menumerate\u001b[39m(all_vars):\n\u001b[32m   3538\u001b[39m     \u001b[38;5;66;03m# TODO(rchao): check shapes and raise errors.\u001b[39;00m\n\u001b[32m   3539\u001b[39m     v.assign(store[\u001b[33mf\u001b[39m\u001b[33m\"\u001b[39m\u001b[38;5;132;01m{\u001b[39;00mi\u001b[38;5;132;01m}\u001b[39;00m\u001b[33m\"\u001b[39m])\n",
      "\u001b[31mValueError\u001b[39m: Layer 'dense_1' expected 2 variables, but received 0 variables during loading. Expected: ['dense_1/kernel:0', 'dense_1/bias:0']"
     ]
    }
   ],
   "source": [
    "ratings_df = pd.read_csv(f'{data_path}/{movielens_dir_nm}/ratings_prepro.csv')\n",
    "movies_df = pd.read_csv(f'{data_path}/{movielens_dir_nm}/movies_prepro.csv')\n",
    "user_df = pd.read_csv(f'{data_path}/{movielens_dir_nm}/users_prepro.csv')\n",
    "\n",
    "# model = AutoIntModel(field_dims, embed_dim, att_layer_num=3, att_head_num=2, att_res=True,\n",
    "#                              l2_reg_dnn=0, l2_reg_embedding=1e-5, dnn_use_bn=False, dnn_dropout=dropout, init_std=0.0001)\n",
    "\n",
    "model = AutoIntMLPModel(field_dims, embed_dim, att_layer_num=3, att_head_num=2, att_res=True, dnn_hidden_units=(32, 32), dnn_activation='relu',\n",
    "                             l2_reg_dnn=0, l2_reg_embedding=1e-5, dnn_use_bn=False, dnn_dropout=dropout, init_std=0.0001)\n",
    "\n",
    "model(tf.constant([[0] * len(field_dims)], dtype=tf.int64))\n",
    "\n",
    "model.load_weights(f'{model_path}/autoIntMLP_model_weights.weights.h5')\n",
    "label_encoders = joblib.load(f'{data_path}/label_encoders.pkl')"
   ]
  },
  {
   "cell_type": "code",
   "execution_count": null,
   "id": "91bafc11",
   "metadata": {},
   "outputs": [],
   "source": []
  }
 ],
 "metadata": {
  "kernelspec": {
   "display_name": ".venv",
   "language": "python",
   "name": "python3"
  },
  "language_info": {
   "codemirror_mode": {
    "name": "ipython",
    "version": 3
   },
   "file_extension": ".py",
   "mimetype": "text/x-python",
   "name": "python",
   "nbconvert_exporter": "python",
   "pygments_lexer": "ipython3",
   "version": "3.11.13"
  }
 },
 "nbformat": 4,
 "nbformat_minor": 5
}
